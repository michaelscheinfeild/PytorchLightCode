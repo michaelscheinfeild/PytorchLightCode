{
  "nbformat": 4,
  "nbformat_minor": 0,
  "metadata": {
    "colab": {
      "provenance": [],
      "gpuType": "T4",
      "authorship_tag": "ABX9TyMOzhnrTeD6ZyrvUo2NiAxp",
      "include_colab_link": true
    },
    "kernelspec": {
      "name": "python3",
      "display_name": "Python 3"
    },
    "language_info": {
      "name": "python"
    },
    "accelerator": "GPU",
    "widgets": {
      "application/vnd.jupyter.widget-state+json": {
        "9be1f8be4c404c8a80c0b752efb9720c": {
          "model_module": "@jupyter-widgets/controls",
          "model_name": "HBoxModel",
          "model_module_version": "1.5.0",
          "state": {
            "_dom_classes": [],
            "_model_module": "@jupyter-widgets/controls",
            "_model_module_version": "1.5.0",
            "_model_name": "HBoxModel",
            "_view_count": null,
            "_view_module": "@jupyter-widgets/controls",
            "_view_module_version": "1.5.0",
            "_view_name": "HBoxView",
            "box_style": "",
            "children": [
              "IPY_MODEL_e13ec9eac337454eb1684ab782c1e86e",
              "IPY_MODEL_b40629e82d4449788a3b2a4babb5eb19",
              "IPY_MODEL_ed084965718e497fa124e406bd95a690"
            ],
            "layout": "IPY_MODEL_f8a4f9c106c54e0d946985500a160fd8"
          }
        },
        "e13ec9eac337454eb1684ab782c1e86e": {
          "model_module": "@jupyter-widgets/controls",
          "model_name": "HTMLModel",
          "model_module_version": "1.5.0",
          "state": {
            "_dom_classes": [],
            "_model_module": "@jupyter-widgets/controls",
            "_model_module_version": "1.5.0",
            "_model_name": "HTMLModel",
            "_view_count": null,
            "_view_module": "@jupyter-widgets/controls",
            "_view_module_version": "1.5.0",
            "_view_name": "HTMLView",
            "description": "",
            "description_tooltip": null,
            "layout": "IPY_MODEL_7da6f64b1a3d495295259097b5f368b8",
            "placeholder": "​",
            "style": "IPY_MODEL_d6f94089cf75434e9c2e205b7bd34d0a",
            "value": "Epoch 4: 100%"
          }
        },
        "b40629e82d4449788a3b2a4babb5eb19": {
          "model_module": "@jupyter-widgets/controls",
          "model_name": "FloatProgressModel",
          "model_module_version": "1.5.0",
          "state": {
            "_dom_classes": [],
            "_model_module": "@jupyter-widgets/controls",
            "_model_module_version": "1.5.0",
            "_model_name": "FloatProgressModel",
            "_view_count": null,
            "_view_module": "@jupyter-widgets/controls",
            "_view_module_version": "1.5.0",
            "_view_name": "ProgressView",
            "bar_style": "success",
            "description": "",
            "description_tooltip": null,
            "layout": "IPY_MODEL_bb7eea57125648998fad1a014a922877",
            "max": 1875,
            "min": 0,
            "orientation": "horizontal",
            "style": "IPY_MODEL_4df093f802cb446096c0c7e1e9458dd6",
            "value": 1875
          }
        },
        "ed084965718e497fa124e406bd95a690": {
          "model_module": "@jupyter-widgets/controls",
          "model_name": "HTMLModel",
          "model_module_version": "1.5.0",
          "state": {
            "_dom_classes": [],
            "_model_module": "@jupyter-widgets/controls",
            "_model_module_version": "1.5.0",
            "_model_name": "HTMLModel",
            "_view_count": null,
            "_view_module": "@jupyter-widgets/controls",
            "_view_module_version": "1.5.0",
            "_view_name": "HTMLView",
            "description": "",
            "description_tooltip": null,
            "layout": "IPY_MODEL_193439e7a9e041919e41753b98b5fc04",
            "placeholder": "​",
            "style": "IPY_MODEL_c6c888d3e0ad4226b8cbfd1efd113d82",
            "value": " 1875/1875 [00:14&lt;00:00, 131.75it/s, v_num=18]"
          }
        },
        "f8a4f9c106c54e0d946985500a160fd8": {
          "model_module": "@jupyter-widgets/base",
          "model_name": "LayoutModel",
          "model_module_version": "1.2.0",
          "state": {
            "_model_module": "@jupyter-widgets/base",
            "_model_module_version": "1.2.0",
            "_model_name": "LayoutModel",
            "_view_count": null,
            "_view_module": "@jupyter-widgets/base",
            "_view_module_version": "1.2.0",
            "_view_name": "LayoutView",
            "align_content": null,
            "align_items": null,
            "align_self": null,
            "border": null,
            "bottom": null,
            "display": "inline-flex",
            "flex": null,
            "flex_flow": "row wrap",
            "grid_area": null,
            "grid_auto_columns": null,
            "grid_auto_flow": null,
            "grid_auto_rows": null,
            "grid_column": null,
            "grid_gap": null,
            "grid_row": null,
            "grid_template_areas": null,
            "grid_template_columns": null,
            "grid_template_rows": null,
            "height": null,
            "justify_content": null,
            "justify_items": null,
            "left": null,
            "margin": null,
            "max_height": null,
            "max_width": null,
            "min_height": null,
            "min_width": null,
            "object_fit": null,
            "object_position": null,
            "order": null,
            "overflow": null,
            "overflow_x": null,
            "overflow_y": null,
            "padding": null,
            "right": null,
            "top": null,
            "visibility": null,
            "width": "100%"
          }
        },
        "7da6f64b1a3d495295259097b5f368b8": {
          "model_module": "@jupyter-widgets/base",
          "model_name": "LayoutModel",
          "model_module_version": "1.2.0",
          "state": {
            "_model_module": "@jupyter-widgets/base",
            "_model_module_version": "1.2.0",
            "_model_name": "LayoutModel",
            "_view_count": null,
            "_view_module": "@jupyter-widgets/base",
            "_view_module_version": "1.2.0",
            "_view_name": "LayoutView",
            "align_content": null,
            "align_items": null,
            "align_self": null,
            "border": null,
            "bottom": null,
            "display": null,
            "flex": null,
            "flex_flow": null,
            "grid_area": null,
            "grid_auto_columns": null,
            "grid_auto_flow": null,
            "grid_auto_rows": null,
            "grid_column": null,
            "grid_gap": null,
            "grid_row": null,
            "grid_template_areas": null,
            "grid_template_columns": null,
            "grid_template_rows": null,
            "height": null,
            "justify_content": null,
            "justify_items": null,
            "left": null,
            "margin": null,
            "max_height": null,
            "max_width": null,
            "min_height": null,
            "min_width": null,
            "object_fit": null,
            "object_position": null,
            "order": null,
            "overflow": null,
            "overflow_x": null,
            "overflow_y": null,
            "padding": null,
            "right": null,
            "top": null,
            "visibility": null,
            "width": null
          }
        },
        "d6f94089cf75434e9c2e205b7bd34d0a": {
          "model_module": "@jupyter-widgets/controls",
          "model_name": "DescriptionStyleModel",
          "model_module_version": "1.5.0",
          "state": {
            "_model_module": "@jupyter-widgets/controls",
            "_model_module_version": "1.5.0",
            "_model_name": "DescriptionStyleModel",
            "_view_count": null,
            "_view_module": "@jupyter-widgets/base",
            "_view_module_version": "1.2.0",
            "_view_name": "StyleView",
            "description_width": ""
          }
        },
        "bb7eea57125648998fad1a014a922877": {
          "model_module": "@jupyter-widgets/base",
          "model_name": "LayoutModel",
          "model_module_version": "1.2.0",
          "state": {
            "_model_module": "@jupyter-widgets/base",
            "_model_module_version": "1.2.0",
            "_model_name": "LayoutModel",
            "_view_count": null,
            "_view_module": "@jupyter-widgets/base",
            "_view_module_version": "1.2.0",
            "_view_name": "LayoutView",
            "align_content": null,
            "align_items": null,
            "align_self": null,
            "border": null,
            "bottom": null,
            "display": null,
            "flex": "2",
            "flex_flow": null,
            "grid_area": null,
            "grid_auto_columns": null,
            "grid_auto_flow": null,
            "grid_auto_rows": null,
            "grid_column": null,
            "grid_gap": null,
            "grid_row": null,
            "grid_template_areas": null,
            "grid_template_columns": null,
            "grid_template_rows": null,
            "height": null,
            "justify_content": null,
            "justify_items": null,
            "left": null,
            "margin": null,
            "max_height": null,
            "max_width": null,
            "min_height": null,
            "min_width": null,
            "object_fit": null,
            "object_position": null,
            "order": null,
            "overflow": null,
            "overflow_x": null,
            "overflow_y": null,
            "padding": null,
            "right": null,
            "top": null,
            "visibility": null,
            "width": null
          }
        },
        "4df093f802cb446096c0c7e1e9458dd6": {
          "model_module": "@jupyter-widgets/controls",
          "model_name": "ProgressStyleModel",
          "model_module_version": "1.5.0",
          "state": {
            "_model_module": "@jupyter-widgets/controls",
            "_model_module_version": "1.5.0",
            "_model_name": "ProgressStyleModel",
            "_view_count": null,
            "_view_module": "@jupyter-widgets/base",
            "_view_module_version": "1.2.0",
            "_view_name": "StyleView",
            "bar_color": null,
            "description_width": ""
          }
        },
        "193439e7a9e041919e41753b98b5fc04": {
          "model_module": "@jupyter-widgets/base",
          "model_name": "LayoutModel",
          "model_module_version": "1.2.0",
          "state": {
            "_model_module": "@jupyter-widgets/base",
            "_model_module_version": "1.2.0",
            "_model_name": "LayoutModel",
            "_view_count": null,
            "_view_module": "@jupyter-widgets/base",
            "_view_module_version": "1.2.0",
            "_view_name": "LayoutView",
            "align_content": null,
            "align_items": null,
            "align_self": null,
            "border": null,
            "bottom": null,
            "display": null,
            "flex": null,
            "flex_flow": null,
            "grid_area": null,
            "grid_auto_columns": null,
            "grid_auto_flow": null,
            "grid_auto_rows": null,
            "grid_column": null,
            "grid_gap": null,
            "grid_row": null,
            "grid_template_areas": null,
            "grid_template_columns": null,
            "grid_template_rows": null,
            "height": null,
            "justify_content": null,
            "justify_items": null,
            "left": null,
            "margin": null,
            "max_height": null,
            "max_width": null,
            "min_height": null,
            "min_width": null,
            "object_fit": null,
            "object_position": null,
            "order": null,
            "overflow": null,
            "overflow_x": null,
            "overflow_y": null,
            "padding": null,
            "right": null,
            "top": null,
            "visibility": null,
            "width": null
          }
        },
        "c6c888d3e0ad4226b8cbfd1efd113d82": {
          "model_module": "@jupyter-widgets/controls",
          "model_name": "DescriptionStyleModel",
          "model_module_version": "1.5.0",
          "state": {
            "_model_module": "@jupyter-widgets/controls",
            "_model_module_version": "1.5.0",
            "_model_name": "DescriptionStyleModel",
            "_view_count": null,
            "_view_module": "@jupyter-widgets/base",
            "_view_module_version": "1.2.0",
            "_view_name": "StyleView",
            "description_width": ""
          }
        }
      }
    }
  },
  "cells": [
    {
      "cell_type": "markdown",
      "metadata": {
        "id": "view-in-github",
        "colab_type": "text"
      },
      "source": [
        "<a href=\"https://colab.research.google.com/github/michaelscheinfeild/PytorchLightCode/blob/main/MnistpytorchLighting.ipynb\" target=\"_parent\"><img src=\"https://colab.research.google.com/assets/colab-badge.svg\" alt=\"Open In Colab\"/></a>"
      ]
    },
    {
      "cell_type": "markdown",
      "source": [
        "https://www.youtube.com/watch?v=OMDn66kM9Qc"
      ],
      "metadata": {
        "id": "29dbdZcogv4k"
      }
    },
    {
      "cell_type": "code",
      "execution_count": null,
      "metadata": {
        "id": "KOOFr5plgpc_"
      },
      "outputs": [],
      "source": [
        "import torch\n",
        "from torch import nn"
      ]
    },
    {
      "cell_type": "code",
      "source": [
        "from torch import optim"
      ],
      "metadata": {
        "id": "0NGIVZRJh_dh"
      },
      "execution_count": null,
      "outputs": []
    },
    {
      "cell_type": "code",
      "source": [
        "from torchvision import datasets, transforms\n",
        "from torch.utils.data import random_split,DataLoader"
      ],
      "metadata": {
        "id": "pHxVUGxikau9"
      },
      "execution_count": null,
      "outputs": []
    },
    {
      "cell_type": "code",
      "source": [
        "import pdb"
      ],
      "metadata": {
        "id": "SB2N6knyLLqG"
      },
      "execution_count": null,
      "outputs": []
    },
    {
      "cell_type": "code",
      "source": [
        "torch.rand(5).cuda()"
      ],
      "metadata": {
        "colab": {
          "base_uri": "https://localhost:8080/"
        },
        "id": "GiE2vDUFreaf",
        "outputId": "541afb77-e46c-4403-b06f-f538d1722ba0"
      },
      "execution_count": null,
      "outputs": [
        {
          "output_type": "execute_result",
          "data": {
            "text/plain": [
              "tensor([0.8059, 0.1891, 0.7194, 0.1090, 0.0948], device='cuda:0')"
            ]
          },
          "metadata": {},
          "execution_count": 5
        }
      ]
    },
    {
      "cell_type": "code",
      "source": [
        "model=nn.Sequential(\n",
        "    nn.Linear(28*28,64),\n",
        "    nn.ReLU(),\n",
        "    nn.Linear(64,64),\n",
        "    nn.ReLU(),\n",
        "    nn.Dropout(0.1),#overfit\n",
        "    nn.Linear(64,10)\n",
        ")"
      ],
      "metadata": {
        "id": "MJlmgU_phFj7"
      },
      "execution_count": null,
      "outputs": []
    },
    {
      "cell_type": "code",
      "source": [
        "model"
      ],
      "metadata": {
        "colab": {
          "base_uri": "https://localhost:8080/"
        },
        "id": "IlATy_ByhZNq",
        "outputId": "131fca57-e20d-4a29-deec-5c709d94dc78"
      },
      "execution_count": null,
      "outputs": [
        {
          "output_type": "execute_result",
          "data": {
            "text/plain": [
              "Sequential(\n",
              "  (0): Linear(in_features=784, out_features=64, bias=True)\n",
              "  (1): ReLU()\n",
              "  (2): Linear(in_features=64, out_features=64, bias=True)\n",
              "  (3): ReLU()\n",
              "  (4): Dropout(p=0.1, inplace=False)\n",
              "  (5): Linear(in_features=64, out_features=10, bias=True)\n",
              ")"
            ]
          },
          "metadata": {},
          "execution_count": 7
        }
      ]
    },
    {
      "cell_type": "markdown",
      "source": [],
      "metadata": {
        "id": "hfG-xkR3UfGk"
      }
    },
    {
      "cell_type": "code",
      "source": [
        "train_data=datasets.MNIST('data',train=True,download=True,transform=transforms.ToTensor())\n"
      ],
      "metadata": {
        "id": "EOFAVJYUkTjy"
      },
      "execution_count": null,
      "outputs": []
    },
    {
      "cell_type": "code",
      "source": [
        "train,val= random_split(train_data,[55000,5000])\n",
        "train_loader = DataLoader(train,batch_size=32)\n",
        "val_loader = DataLoader(val,batch_size=32)"
      ],
      "metadata": {
        "id": "Osu-iaBbwuZa"
      },
      "execution_count": null,
      "outputs": []
    },
    {
      "cell_type": "code",
      "source": [
        "class ResNet(nn.Module):\n",
        "  def __init__(self):\n",
        "    super().__init__()\n",
        "    self.l1=nn.Linear(28*28,64)\n",
        "    self.l2=nn.Linear(64,64)\n",
        "    self.l3=nn.Linear(64,10)\n",
        "    self.do=nn.Dropout(0.1)\n",
        "\n",
        "  def forward(self,x):\n",
        "    h1=nn.functional.relu(self.l1(x))\n",
        "    h2=nn.functional.relu(self.l2(h1))\n",
        "    do=self.do(h1+h2)\n",
        "    logits = self.l3(do)\n",
        "    return logits\n",
        "\n",
        "\n",
        "model=ResNet().cuda()\n",
        "model"
      ],
      "metadata": {
        "colab": {
          "base_uri": "https://localhost:8080/"
        },
        "id": "F_FCA88vt-Cw",
        "outputId": "19e727f9-e225-4f2b-ac2a-d6226165a00a"
      },
      "execution_count": null,
      "outputs": [
        {
          "output_type": "execute_result",
          "data": {
            "text/plain": [
              "ResNet(\n",
              "  (l1): Linear(in_features=784, out_features=64, bias=True)\n",
              "  (l2): Linear(in_features=64, out_features=64, bias=True)\n",
              "  (l3): Linear(in_features=64, out_features=10, bias=True)\n",
              "  (do): Dropout(p=0.1, inplace=False)\n",
              ")"
            ]
          },
          "metadata": {},
          "execution_count": 10
        }
      ]
    },
    {
      "cell_type": "code",
      "source": [
        "optimizer = optim.SGD(model.parameters(),lr=1e-2)"
      ],
      "metadata": {
        "id": "4f2nAdguhksL"
      },
      "execution_count": null,
      "outputs": []
    },
    {
      "cell_type": "code",
      "source": [
        "loss=nn.CrossEntropyLoss()"
      ],
      "metadata": {
        "id": "Jq0YrWtQiYFS"
      },
      "execution_count": null,
      "outputs": []
    },
    {
      "cell_type": "code",
      "source": [
        "nb_epochs=5\n",
        "\n",
        "for epoch in range(nb_epochs):\n",
        "  losses=list()\n",
        "  accuracies=list()\n",
        "  model.train()# dropot active\n",
        "  for batch in train_loader:\n",
        "    x,y=batch\n",
        "\n",
        "    #n*28*28\n",
        "    b=x.size(0)\n",
        "    x=x.view(b,-1).cuda()\n",
        "\n",
        "    #forward\n",
        "    l=model(x) #logit\n",
        "\n",
        "    #pdb.set_trace()\n",
        "\n",
        "    #objective\n",
        "    J=loss(l,y.cuda())\n",
        "\n",
        "    #clean gradient  /we can use optimizer as well\n",
        "    model.zero_grad()\n",
        "\n",
        "    #accumaluta partial derivate\n",
        "    J.backward()\n",
        "\n",
        "    #step opposite direction gradient\n",
        "    optimizer.step()  #params=params-ata*params.grad\n",
        "\n",
        "    losses.append(J.item())\n",
        "\n",
        "    #pdb.set_trace()\n",
        "    accuracies.append((y.to(l.device)==l.detach().argmax(dim=1)).float().mean().cpu())\n",
        "\n",
        "  print(f'Epoch {epoch+1}, trainloss:  {torch.tensor(losses).mean():.2f} accuracy {torch.tensor(accuracies).mean():.2f}')\n",
        "\n",
        "  losses=list()\n",
        "  accuracies=list()\n",
        "  model.eval()# no dropout\n",
        "  for batch in val_loader:\n",
        "    x,y=batch\n",
        "\n",
        "    #n*28*28\n",
        "    b=x.size(0)\n",
        "    x=x.view(b,-1).cuda()\n",
        "\n",
        "    #forward J just tensor no graph connected we not compute gradients\n",
        "    with torch.no_grad():\n",
        "      l=model(x) #logit\n",
        "\n",
        "    #objective\n",
        "    J=loss(l,y.cuda())\n",
        "\n",
        "    losses.append(J.item())\n",
        "    accuracies.append((y.to(l.device)==l.detach().argmax(dim=1)).float().mean().cpu())\n",
        "\n",
        "\n",
        "  print(f'Epoch {epoch+1}, validationloss  {torch.tensor(losses).mean():.2f} accuracy {torch.tensor(accuracies).mean():.2f}')\n",
        "\n"
      ],
      "metadata": {
        "colab": {
          "base_uri": "https://localhost:8080/"
        },
        "id": "M5GDMBEjijA0",
        "outputId": "4bf6b721-5ce6-4407-f6c4-507cff753993"
      },
      "execution_count": null,
      "outputs": [
        {
          "output_type": "stream",
          "name": "stdout",
          "text": [
            "Epoch 1, trainloss:  0.84 accuracy 0.78\n",
            "Epoch 1, validationloss  0.38 accuracy 0.90\n",
            "Epoch 2, trainloss:  0.38 accuracy 0.89\n",
            "Epoch 2, validationloss  0.29 accuracy 0.92\n",
            "Epoch 3, trainloss:  0.31 accuracy 0.91\n",
            "Epoch 3, validationloss  0.25 accuracy 0.93\n",
            "Epoch 4, trainloss:  0.27 accuracy 0.92\n",
            "Epoch 4, validationloss  0.22 accuracy 0.94\n",
            "Epoch 5, trainloss:  0.24 accuracy 0.93\n",
            "Epoch 5, validationloss  0.20 accuracy 0.94\n"
          ]
        }
      ]
    },
    {
      "cell_type": "code",
      "source": [
        "accuracies[0].device"
      ],
      "metadata": {
        "colab": {
          "base_uri": "https://localhost:8080/"
        },
        "id": "byDEEYEXt1HR",
        "outputId": "14591d58-f977-47b0-8267-954971be2c0d"
      },
      "execution_count": null,
      "outputs": [
        {
          "output_type": "execute_result",
          "data": {
            "text/plain": [
              "device(type='cuda', index=0)"
            ]
          },
          "metadata": {},
          "execution_count": 22
        }
      ]
    },
    {
      "cell_type": "code",
      "source": [
        "len(accuracies)\n"
      ],
      "metadata": {
        "colab": {
          "base_uri": "https://localhost:8080/"
        },
        "id": "yvuty7w5szY5",
        "outputId": "985707bc-0b18-4f07-f1db-3dc3564401d9"
      },
      "execution_count": null,
      "outputs": [
        {
          "output_type": "execute_result",
          "data": {
            "text/plain": [
              "1719"
            ]
          },
          "metadata": {},
          "execution_count": 16
        }
      ]
    },
    {
      "cell_type": "code",
      "source": [
        "accuracies[0].__class__"
      ],
      "metadata": {
        "colab": {
          "base_uri": "https://localhost:8080/"
        },
        "id": "VkBQLXldtRA6",
        "outputId": "91bab97d-ba6b-4f66-a9f3-b71099a1d4c1"
      },
      "execution_count": null,
      "outputs": [
        {
          "output_type": "execute_result",
          "data": {
            "text/plain": [
              "torch.Tensor"
            ]
          },
          "metadata": {},
          "execution_count": 17
        }
      ]
    },
    {
      "cell_type": "code",
      "source": [
        "torch.tensor(accuracies[0]).float().mean()\n"
      ],
      "metadata": {
        "colab": {
          "base_uri": "https://localhost:8080/"
        },
        "id": "dlZteL6XtWDR",
        "outputId": "2c114158-7cd8-452d-9dc9-73fdd5a5fe4c"
      },
      "execution_count": null,
      "outputs": [
        {
          "output_type": "stream",
          "name": "stderr",
          "text": [
            "<ipython-input-20-82182267fa02>:1: UserWarning: To copy construct from a tensor, it is recommended to use sourceTensor.clone().detach() or sourceTensor.clone().detach().requires_grad_(True), rather than torch.tensor(sourceTensor).\n",
            "  torch.tensor(accuracies[0]).float().mean()\n"
          ]
        },
        {
          "output_type": "execute_result",
          "data": {
            "text/plain": [
              "tensor(0., device='cuda:0')"
            ]
          },
          "metadata": {},
          "execution_count": 20
        }
      ]
    },
    {
      "cell_type": "markdown",
      "source": [
        "![image.png](data:image/png;base64,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)"
      ],
      "metadata": {
        "id": "v5-9kXC2crGV"
      }
    },
    {
      "cell_type": "markdown",
      "source": [
        "p (y[:4].to(l.device)==l.detach().argmax(dim=1)[:4])"
      ],
      "metadata": {
        "id": "kIgkRa76nM4G"
      }
    },
    {
      "cell_type": "markdown",
      "source": [
        " p (y.to(l.device)==l.detach().argmax(dim=1)).float().mean()"
      ],
      "metadata": {
        "id": "t7XU3GYCqJ1S"
      }
    },
    {
      "cell_type": "markdown",
      "source": [
        " p l.size()"
      ],
      "metadata": {
        "id": "M2INIEeMf7yt"
      }
    },
    {
      "cell_type": "markdown",
      "source": [
        "p l[0].detach().softmax(dim=0)"
      ],
      "metadata": {
        "id": "9G4DLw4megML"
      }
    },
    {
      "cell_type": "markdown",
      "source": [
        "p  [f'{p:.2f}' for p in l[0].detach().softmax(dim=0)]"
      ],
      "metadata": {
        "id": "DziU4RTpfaBc"
      }
    },
    {
      "cell_type": "markdown",
      "source": [
        "p y.size()"
      ],
      "metadata": {
        "id": "RkPrGFZ-fxbz"
      }
    },
    {
      "cell_type": "markdown",
      "source": [
        "p y[:4]"
      ],
      "metadata": {
        "id": "bpOgCKqEf4Gj"
      }
    },
    {
      "cell_type": "markdown",
      "source": [
        "p l.detach().argmax(dim=1)[:6]"
      ],
      "metadata": {
        "id": "Z-2ymYi8ggpb"
      }
    },
    {
      "cell_type": "code",
      "source": [],
      "metadata": {
        "id": "18Okao-wcta0"
      },
      "execution_count": null,
      "outputs": []
    },
    {
      "cell_type": "code",
      "source": [
        "import matplotlib.pyplot as plt"
      ],
      "metadata": {
        "id": "oNFu6femvJmi"
      },
      "execution_count": null,
      "outputs": []
    },
    {
      "cell_type": "markdown",
      "source": [
        "#pytorch light"
      ],
      "metadata": {
        "id": "iyMExtqxQMDx"
      }
    },
    {
      "cell_type": "markdown",
      "source": [
        "https://www.youtube.com/watch?v=DbESHcCoWbM"
      ],
      "metadata": {
        "id": "aXE-rIKsSK4B"
      }
    },
    {
      "cell_type": "code",
      "source": [
        "! pip install  pytorch-lightning"
      ],
      "metadata": {
        "colab": {
          "base_uri": "https://localhost:8080/"
        },
        "id": "54vk-O3qSfAW",
        "outputId": "eddb8b35-9004-4ebd-aa95-60531d8fa991"
      },
      "execution_count": null,
      "outputs": [
        {
          "output_type": "stream",
          "name": "stdout",
          "text": [
            "Collecting pytorch-lightning\n",
            "  Downloading pytorch_lightning-2.0.7-py3-none-any.whl (724 kB)\n",
            "\u001b[2K     \u001b[90m━━━━━━━━━━━━━━━━━━━━━━━━━━━━━━━━━━━━━━\u001b[0m \u001b[32m725.0/725.0 kB\u001b[0m \u001b[31m10.9 MB/s\u001b[0m eta \u001b[36m0:00:00\u001b[0m\n",
            "\u001b[?25hRequirement already satisfied: numpy>=1.17.2 in /usr/local/lib/python3.10/dist-packages (from pytorch-lightning) (1.23.5)\n",
            "Requirement already satisfied: torch>=1.11.0 in /usr/local/lib/python3.10/dist-packages (from pytorch-lightning) (2.0.1+cu118)\n",
            "Requirement already satisfied: tqdm>=4.57.0 in /usr/local/lib/python3.10/dist-packages (from pytorch-lightning) (4.66.1)\n",
            "Requirement already satisfied: PyYAML>=5.4 in /usr/local/lib/python3.10/dist-packages (from pytorch-lightning) (6.0.1)\n",
            "Requirement already satisfied: fsspec[http]>2021.06.0 in /usr/local/lib/python3.10/dist-packages (from pytorch-lightning) (2023.6.0)\n",
            "Collecting torchmetrics>=0.7.0 (from pytorch-lightning)\n",
            "  Downloading torchmetrics-1.1.0-py3-none-any.whl (761 kB)\n",
            "\u001b[2K     \u001b[90m━━━━━━━━━━━━━━━━━━━━━━━━━━━━━━━━━━━━━━\u001b[0m \u001b[32m761.3/761.3 kB\u001b[0m \u001b[31m45.7 MB/s\u001b[0m eta \u001b[36m0:00:00\u001b[0m\n",
            "\u001b[?25hRequirement already satisfied: packaging>=17.1 in /usr/local/lib/python3.10/dist-packages (from pytorch-lightning) (23.1)\n",
            "Requirement already satisfied: typing-extensions>=4.0.0 in /usr/local/lib/python3.10/dist-packages (from pytorch-lightning) (4.7.1)\n",
            "Collecting lightning-utilities>=0.7.0 (from pytorch-lightning)\n",
            "  Downloading lightning_utilities-0.9.0-py3-none-any.whl (23 kB)\n",
            "Requirement already satisfied: requests in /usr/local/lib/python3.10/dist-packages (from fsspec[http]>2021.06.0->pytorch-lightning) (2.31.0)\n",
            "Requirement already satisfied: aiohttp!=4.0.0a0,!=4.0.0a1 in /usr/local/lib/python3.10/dist-packages (from fsspec[http]>2021.06.0->pytorch-lightning) (3.8.5)\n",
            "Requirement already satisfied: filelock in /usr/local/lib/python3.10/dist-packages (from torch>=1.11.0->pytorch-lightning) (3.12.2)\n",
            "Requirement already satisfied: sympy in /usr/local/lib/python3.10/dist-packages (from torch>=1.11.0->pytorch-lightning) (1.12)\n",
            "Requirement already satisfied: networkx in /usr/local/lib/python3.10/dist-packages (from torch>=1.11.0->pytorch-lightning) (3.1)\n",
            "Requirement already satisfied: jinja2 in /usr/local/lib/python3.10/dist-packages (from torch>=1.11.0->pytorch-lightning) (3.1.2)\n",
            "Requirement already satisfied: triton==2.0.0 in /usr/local/lib/python3.10/dist-packages (from torch>=1.11.0->pytorch-lightning) (2.0.0)\n",
            "Requirement already satisfied: cmake in /usr/local/lib/python3.10/dist-packages (from triton==2.0.0->torch>=1.11.0->pytorch-lightning) (3.27.2)\n",
            "Requirement already satisfied: lit in /usr/local/lib/python3.10/dist-packages (from triton==2.0.0->torch>=1.11.0->pytorch-lightning) (16.0.6)\n",
            "Requirement already satisfied: attrs>=17.3.0 in /usr/local/lib/python3.10/dist-packages (from aiohttp!=4.0.0a0,!=4.0.0a1->fsspec[http]>2021.06.0->pytorch-lightning) (23.1.0)\n",
            "Requirement already satisfied: charset-normalizer<4.0,>=2.0 in /usr/local/lib/python3.10/dist-packages (from aiohttp!=4.0.0a0,!=4.0.0a1->fsspec[http]>2021.06.0->pytorch-lightning) (3.2.0)\n",
            "Requirement already satisfied: multidict<7.0,>=4.5 in /usr/local/lib/python3.10/dist-packages (from aiohttp!=4.0.0a0,!=4.0.0a1->fsspec[http]>2021.06.0->pytorch-lightning) (6.0.4)\n",
            "Requirement already satisfied: async-timeout<5.0,>=4.0.0a3 in /usr/local/lib/python3.10/dist-packages (from aiohttp!=4.0.0a0,!=4.0.0a1->fsspec[http]>2021.06.0->pytorch-lightning) (4.0.3)\n",
            "Requirement already satisfied: yarl<2.0,>=1.0 in /usr/local/lib/python3.10/dist-packages (from aiohttp!=4.0.0a0,!=4.0.0a1->fsspec[http]>2021.06.0->pytorch-lightning) (1.9.2)\n",
            "Requirement already satisfied: frozenlist>=1.1.1 in /usr/local/lib/python3.10/dist-packages (from aiohttp!=4.0.0a0,!=4.0.0a1->fsspec[http]>2021.06.0->pytorch-lightning) (1.4.0)\n",
            "Requirement already satisfied: aiosignal>=1.1.2 in /usr/local/lib/python3.10/dist-packages (from aiohttp!=4.0.0a0,!=4.0.0a1->fsspec[http]>2021.06.0->pytorch-lightning) (1.3.1)\n",
            "Requirement already satisfied: MarkupSafe>=2.0 in /usr/local/lib/python3.10/dist-packages (from jinja2->torch>=1.11.0->pytorch-lightning) (2.1.3)\n",
            "Requirement already satisfied: idna<4,>=2.5 in /usr/local/lib/python3.10/dist-packages (from requests->fsspec[http]>2021.06.0->pytorch-lightning) (3.4)\n",
            "Requirement already satisfied: urllib3<3,>=1.21.1 in /usr/local/lib/python3.10/dist-packages (from requests->fsspec[http]>2021.06.0->pytorch-lightning) (2.0.4)\n",
            "Requirement already satisfied: certifi>=2017.4.17 in /usr/local/lib/python3.10/dist-packages (from requests->fsspec[http]>2021.06.0->pytorch-lightning) (2023.7.22)\n",
            "Requirement already satisfied: mpmath>=0.19 in /usr/local/lib/python3.10/dist-packages (from sympy->torch>=1.11.0->pytorch-lightning) (1.3.0)\n",
            "Installing collected packages: lightning-utilities, torchmetrics, pytorch-lightning\n",
            "Successfully installed lightning-utilities-0.9.0 pytorch-lightning-2.0.7 torchmetrics-1.1.0\n"
          ]
        }
      ]
    },
    {
      "cell_type": "code",
      "source": [
        "import pytorch_lightning as pl"
      ],
      "metadata": {
        "id": "HiTN38aDQ0AB"
      },
      "execution_count": null,
      "outputs": []
    },
    {
      "cell_type": "code",
      "source": [
        "!pip install torchmetrics"
      ],
      "metadata": {
        "colab": {
          "base_uri": "https://localhost:8080/"
        },
        "id": "MuaNF_jtoZl6",
        "outputId": "8f1d2160-382c-4d7e-e96e-6e8142fbc832"
      },
      "execution_count": null,
      "outputs": [
        {
          "output_type": "stream",
          "name": "stdout",
          "text": [
            "Requirement already satisfied: torchmetrics in /usr/local/lib/python3.10/dist-packages (1.1.0)\n",
            "Requirement already satisfied: numpy>1.20.0 in /usr/local/lib/python3.10/dist-packages (from torchmetrics) (1.23.5)\n",
            "Requirement already satisfied: torch>=1.8.1 in /usr/local/lib/python3.10/dist-packages (from torchmetrics) (2.0.1+cu118)\n",
            "Requirement already satisfied: packaging in /usr/local/lib/python3.10/dist-packages (from torchmetrics) (23.1)\n",
            "Requirement already satisfied: lightning-utilities>=0.8.0 in /usr/local/lib/python3.10/dist-packages (from torchmetrics) (0.9.0)\n",
            "Requirement already satisfied: typing-extensions in /usr/local/lib/python3.10/dist-packages (from lightning-utilities>=0.8.0->torchmetrics) (4.7.1)\n",
            "Requirement already satisfied: filelock in /usr/local/lib/python3.10/dist-packages (from torch>=1.8.1->torchmetrics) (3.12.2)\n",
            "Requirement already satisfied: sympy in /usr/local/lib/python3.10/dist-packages (from torch>=1.8.1->torchmetrics) (1.12)\n",
            "Requirement already satisfied: networkx in /usr/local/lib/python3.10/dist-packages (from torch>=1.8.1->torchmetrics) (3.1)\n",
            "Requirement already satisfied: jinja2 in /usr/local/lib/python3.10/dist-packages (from torch>=1.8.1->torchmetrics) (3.1.2)\n",
            "Requirement already satisfied: triton==2.0.0 in /usr/local/lib/python3.10/dist-packages (from torch>=1.8.1->torchmetrics) (2.0.0)\n",
            "Requirement already satisfied: cmake in /usr/local/lib/python3.10/dist-packages (from triton==2.0.0->torch>=1.8.1->torchmetrics) (3.27.2)\n",
            "Requirement already satisfied: lit in /usr/local/lib/python3.10/dist-packages (from triton==2.0.0->torch>=1.8.1->torchmetrics) (16.0.6)\n",
            "Requirement already satisfied: MarkupSafe>=2.0 in /usr/local/lib/python3.10/dist-packages (from jinja2->torch>=1.8.1->torchmetrics) (2.1.3)\n",
            "Requirement already satisfied: mpmath>=0.19 in /usr/local/lib/python3.10/dist-packages (from sympy->torch>=1.8.1->torchmetrics) (1.3.0)\n"
          ]
        }
      ]
    },
    {
      "cell_type": "code",
      "source": [
        "from torchmetrics.functional import accuracy"
      ],
      "metadata": {
        "id": "KzZ-ZQL6nhfr"
      },
      "execution_count": null,
      "outputs": []
    },
    {
      "cell_type": "code",
      "source": [
        " '''\n",
        "  #deprected\n",
        "  def validation_epoch_end(self,val_step_outputs):\n",
        "    avg_val_loss = torch.tensor([x['loss'] for x in val_step_outputs]).mean()\n",
        "    avg_val_acc = torch.tensor([x['progress_bar']['val_acc'] for x in val_step_outputs]).mean()\n",
        "\n",
        "    pbar={'avg_val_acc':avg_val_acc}\n",
        "\n",
        "    return {'val_loss':avg_val_loss,'progress_bar':pbar}\n",
        "\n",
        "  '''"
      ],
      "metadata": {
        "id": "X4Le4iux2fnr"
      },
      "execution_count": null,
      "outputs": []
    },
    {
      "cell_type": "code",
      "source": [
        "from pytorch_lightning.callbacks.progress import progress_bar"
      ],
      "metadata": {
        "id": "GmNRdxfo2jiZ"
      },
      "execution_count": null,
      "outputs": []
    },
    {
      "cell_type": "code",
      "source": [
        "\n",
        "class ImageClassifier(pl.LightningModule):\n",
        "  def __init__(self):\n",
        "\n",
        "    super().__init__()\n",
        "    self.l1=nn.Linear(28*28,64)\n",
        "    self.l2=nn.Linear(64,64)\n",
        "    self.l3=nn.Linear(64,10)\n",
        "    self.do=nn.Dropout(0.1)\n",
        "    self.loss =nn.CrossEntropyLoss()\n",
        "\n",
        "  def forward(self,x):\n",
        "    h1=nn.functional.relu(self.l1(x))\n",
        "    h2=nn.functional.relu(self.l2(h1))\n",
        "    do=self.do(h1+h2)\n",
        "    logits = self.l3(do)\n",
        "    return logits\n",
        "\n",
        "  def configure_optimizers(self):\n",
        "    optimizer = optim.SGD(self.parameters(),lr=1e-2)\n",
        "    return optimizer\n",
        "\n",
        "  def training_step(self,batch,batch_idx):\n",
        "\n",
        "    x,y=batch\n",
        "\n",
        "    #n*28*28\n",
        "    b=x.size(0)\n",
        "    x=x.view(b,-1)\n",
        "\n",
        "    #forward\n",
        "    logit= self(x) #model(x) #logit\n",
        "\n",
        "    #pdb.set_trace()\n",
        "\n",
        "    #objective\n",
        "    J=self.loss(logit,y)\n",
        "\n",
        "    acc = accuracy(logit,y,task='multiclass',num_classes=10)\n",
        "    pbar={'train_acc':acc}\n",
        "    return {'loss':J,'progress_bar':pbar}\n",
        "\n",
        "    #def validation_step(self,batch,batch_idx):\n",
        "    #results = self.training_step(batch,batch_idx)\n",
        "    #results['progress_bar']['val_acc']=results['progress_bar']['trin_acc']\n",
        "    #del results['progress_bar']['trin_acc']\n",
        "    #return results\n",
        "\n",
        "\n",
        "  def train_dataloader(self):\n",
        "        train_data = datasets.MNIST('data', train=True, download=True, transform=transforms.ToTensor())\n",
        "        #self.train, self.val = random_split(train_data, [55000, 5000])\n",
        "        #train_loader = DataLoader(self.train, batch_size=32)\n",
        "        train_loader = DataLoader(train_data, batch_size=32)\n",
        "        return train_loader\n",
        "\n",
        "\n",
        "  #def val_dataloader(self):\n",
        "\n",
        "  #   val_loader = DataLoader(self.val,batch_size=32)\n",
        "  #   return val_loader\n"
      ],
      "metadata": {
        "id": "nUrWBXhiQOdb"
      },
      "execution_count": null,
      "outputs": []
    },
    {
      "cell_type": "code",
      "source": [
        "model = ImageClassifier()"
      ],
      "metadata": {
        "id": "kTvDcJgMT_EV"
      },
      "execution_count": null,
      "outputs": []
    },
    {
      "cell_type": "code",
      "source": [
        "import logging\n",
        "logging.basicConfig(level=logging.INFO)"
      ],
      "metadata": {
        "id": "XT-A_GDJpmBS"
      },
      "execution_count": null,
      "outputs": []
    },
    {
      "cell_type": "code",
      "source": [
        "from pytorch_lightning.callbacks.progress.progress_bar import ProgressBar"
      ],
      "metadata": {
        "id": "OG6Zxs2VaGF4"
      },
      "execution_count": null,
      "outputs": []
    },
    {
      "cell_type": "code",
      "source": [
        "from pytorch_lightning.callbacks import ProgressBar"
      ],
      "metadata": {
        "id": "RBi4QQA_kX16"
      },
      "execution_count": null,
      "outputs": []
    },
    {
      "cell_type": "code",
      "source": [
        "class CustomProgressBar1(ProgressBar):\n",
        "    def init_train_tqdm(self):\n",
        "        bar = super().init_train_tqdm()\n",
        "        bar.set_postfix_str(\"lr: {:.4f}\".format(self.trainer.optimizers[0].param_groups[0]['lr']))\n",
        "        return bar"
      ],
      "metadata": {
        "id": "S02Icjyikcix"
      },
      "execution_count": null,
      "outputs": []
    },
    {
      "cell_type": "code",
      "source": [
        "class CustomProgressBar(ProgressBar):\n",
        "    def init_train_tqdm(self):\n",
        "        bar = tqdm.notebook.tqdm(total=self.total_train_batches, position=0)\n",
        "        return bar"
      ],
      "metadata": {
        "id": "WI-ZSxcmlsx0"
      },
      "execution_count": null,
      "outputs": []
    },
    {
      "cell_type": "code",
      "source": [
        "custom_progress_bar = CustomProgressBar()"
      ],
      "metadata": {
        "id": "ugxvwYXakoiR"
      },
      "execution_count": null,
      "outputs": []
    },
    {
      "cell_type": "code",
      "source": [
        "import builtins\n",
        "original_print = builtins.print"
      ],
      "metadata": {
        "id": "zzWmVWn8lZFP"
      },
      "execution_count": null,
      "outputs": []
    },
    {
      "cell_type": "code",
      "source": [
        "def custom_print(*args, **kwargs):\n",
        "    kwargs['flush'] = True\n",
        "    original_print(*args, **kwargs)"
      ],
      "metadata": {
        "id": "kMa5ay9ulc25"
      },
      "execution_count": null,
      "outputs": []
    },
    {
      "cell_type": "code",
      "source": [
        "!pip install tqdm"
      ],
      "metadata": {
        "colab": {
          "base_uri": "https://localhost:8080/"
        },
        "id": "XqMY95vmlklJ",
        "outputId": "0010bd63-40c4-48ea-8fe0-4cb36237f19e"
      },
      "execution_count": null,
      "outputs": [
        {
          "output_type": "stream",
          "name": "stdout",
          "text": [
            "Requirement already satisfied: tqdm in /usr/local/lib/python3.10/dist-packages (4.66.1)\n"
          ]
        }
      ]
    },
    {
      "cell_type": "code",
      "source": [
        "import tqdm"
      ],
      "metadata": {
        "id": "GiFNv_-Olojq"
      },
      "execution_count": null,
      "outputs": []
    },
    {
      "cell_type": "code",
      "source": [
        "builtins.print = custom_print"
      ],
      "metadata": {
        "id": "CJBttZf9lfrO"
      },
      "execution_count": null,
      "outputs": []
    },
    {
      "cell_type": "code",
      "source": [
        "!pip install wandb"
      ],
      "metadata": {
        "colab": {
          "base_uri": "https://localhost:8080/"
        },
        "id": "Iypc0fyfsoEs",
        "outputId": "9411901a-1ee5-4fe2-a07d-820eb99843b2"
      },
      "execution_count": null,
      "outputs": [
        {
          "output_type": "stream",
          "name": "stdout",
          "text": [
            "Collecting wandb\n",
            "  Downloading wandb-0.15.8-py3-none-any.whl (2.1 MB)\n",
            "\u001b[2K     \u001b[90m━━━━━━━━━━━━━━━━━━━━━━━━━━━━━━━━━━━━━━━━\u001b[0m \u001b[32m2.1/2.1 MB\u001b[0m \u001b[31m23.6 MB/s\u001b[0m eta \u001b[36m0:00:00\u001b[0m\n",
            "\u001b[?25hRequirement already satisfied: Click!=8.0.0,>=7.1 in /usr/local/lib/python3.10/dist-packages (from wandb) (8.1.7)\n",
            "Collecting GitPython!=3.1.29,>=1.0.0 (from wandb)\n",
            "  Downloading GitPython-3.1.32-py3-none-any.whl (188 kB)\n",
            "\u001b[2K     \u001b[90m━━━━━━━━━━━━━━━━━━━━━━━━━━━━━━━━━━━━━━\u001b[0m \u001b[32m188.5/188.5 kB\u001b[0m \u001b[31m20.4 MB/s\u001b[0m eta \u001b[36m0:00:00\u001b[0m\n",
            "\u001b[?25hRequirement already satisfied: requests<3,>=2.0.0 in /usr/local/lib/python3.10/dist-packages (from wandb) (2.31.0)\n",
            "Requirement already satisfied: psutil>=5.0.0 in /usr/local/lib/python3.10/dist-packages (from wandb) (5.9.5)\n",
            "Collecting sentry-sdk>=1.0.0 (from wandb)\n",
            "  Downloading sentry_sdk-1.29.2-py2.py3-none-any.whl (215 kB)\n",
            "\u001b[2K     \u001b[90m━━━━━━━━━━━━━━━━━━━━━━━━━━━━━━━━━━━━━━\u001b[0m \u001b[32m215.6/215.6 kB\u001b[0m \u001b[31m23.5 MB/s\u001b[0m eta \u001b[36m0:00:00\u001b[0m\n",
            "\u001b[?25hCollecting docker-pycreds>=0.4.0 (from wandb)\n",
            "  Downloading docker_pycreds-0.4.0-py2.py3-none-any.whl (9.0 kB)\n",
            "Requirement already satisfied: PyYAML in /usr/local/lib/python3.10/dist-packages (from wandb) (6.0.1)\n",
            "Collecting pathtools (from wandb)\n",
            "  Downloading pathtools-0.1.2.tar.gz (11 kB)\n",
            "  Preparing metadata (setup.py) ... \u001b[?25l\u001b[?25hdone\n",
            "Collecting setproctitle (from wandb)\n",
            "  Downloading setproctitle-1.3.2-cp310-cp310-manylinux_2_5_x86_64.manylinux1_x86_64.manylinux_2_17_x86_64.manylinux2014_x86_64.whl (30 kB)\n",
            "Requirement already satisfied: setuptools in /usr/local/lib/python3.10/dist-packages (from wandb) (67.7.2)\n",
            "Requirement already satisfied: appdirs>=1.4.3 in /usr/local/lib/python3.10/dist-packages (from wandb) (1.4.4)\n",
            "Requirement already satisfied: protobuf!=4.21.0,<5,>=3.19.0 in /usr/local/lib/python3.10/dist-packages (from wandb) (3.20.3)\n",
            "Requirement already satisfied: six>=1.4.0 in /usr/local/lib/python3.10/dist-packages (from docker-pycreds>=0.4.0->wandb) (1.16.0)\n",
            "Collecting gitdb<5,>=4.0.1 (from GitPython!=3.1.29,>=1.0.0->wandb)\n",
            "  Downloading gitdb-4.0.10-py3-none-any.whl (62 kB)\n",
            "\u001b[2K     \u001b[90m━━━━━━━━━━━━━━━━━━━━━━━━━━━━━━━━━━━━━━━━\u001b[0m \u001b[32m62.7/62.7 kB\u001b[0m \u001b[31m8.3 MB/s\u001b[0m eta \u001b[36m0:00:00\u001b[0m\n",
            "\u001b[?25hRequirement already satisfied: charset-normalizer<4,>=2 in /usr/local/lib/python3.10/dist-packages (from requests<3,>=2.0.0->wandb) (3.2.0)\n",
            "Requirement already satisfied: idna<4,>=2.5 in /usr/local/lib/python3.10/dist-packages (from requests<3,>=2.0.0->wandb) (3.4)\n",
            "Requirement already satisfied: urllib3<3,>=1.21.1 in /usr/local/lib/python3.10/dist-packages (from requests<3,>=2.0.0->wandb) (2.0.4)\n",
            "Requirement already satisfied: certifi>=2017.4.17 in /usr/local/lib/python3.10/dist-packages (from requests<3,>=2.0.0->wandb) (2023.7.22)\n",
            "Collecting smmap<6,>=3.0.1 (from gitdb<5,>=4.0.1->GitPython!=3.1.29,>=1.0.0->wandb)\n",
            "  Downloading smmap-5.0.0-py3-none-any.whl (24 kB)\n",
            "Building wheels for collected packages: pathtools\n",
            "  Building wheel for pathtools (setup.py) ... \u001b[?25l\u001b[?25hdone\n",
            "  Created wheel for pathtools: filename=pathtools-0.1.2-py3-none-any.whl size=8791 sha256=dd1bc37ef21927665cae54639fb387f4cdd49b49386336c0f648c18d5c2fec41\n",
            "  Stored in directory: /root/.cache/pip/wheels/e7/f3/22/152153d6eb222ee7a56ff8617d80ee5207207a8c00a7aab794\n",
            "Successfully built pathtools\n",
            "Installing collected packages: pathtools, smmap, setproctitle, sentry-sdk, docker-pycreds, gitdb, GitPython, wandb\n",
            "Successfully installed GitPython-3.1.32 docker-pycreds-0.4.0 gitdb-4.0.10 pathtools-0.1.2 sentry-sdk-1.29.2 setproctitle-1.3.2 smmap-5.0.0 wandb-0.15.8\n"
          ]
        }
      ]
    },
    {
      "cell_type": "code",
      "source": [
        "from pytorch_lightning.loggers import WandbLogger"
      ],
      "metadata": {
        "id": "NvsoXEegstrc"
      },
      "execution_count": null,
      "outputs": []
    },
    {
      "cell_type": "code",
      "source": [
        "#wandb_logger = WandbLogger(project=\"p\", entity=\"e\", log_model=True,   log_graph=True)"
      ],
      "metadata": {
        "id": "cbZUHj8Jsf62"
      },
      "execution_count": null,
      "outputs": []
    },
    {
      "cell_type": "code",
      "source": [
        "#trainer=pl.Trainer(callbacks=[custom_progress_bar],max_epochs=5)\n",
        "trainer=pl.Trainer(max_epochs=5)#gpus=1 not working here ?\n",
        "trainer.fit(model)"
      ],
      "metadata": {
        "colab": {
          "base_uri": "https://localhost:8080/",
          "height": 417,
          "referenced_widgets": [
            "9be1f8be4c404c8a80c0b752efb9720c",
            "e13ec9eac337454eb1684ab782c1e86e",
            "b40629e82d4449788a3b2a4babb5eb19",
            "ed084965718e497fa124e406bd95a690",
            "f8a4f9c106c54e0d946985500a160fd8",
            "7da6f64b1a3d495295259097b5f368b8",
            "d6f94089cf75434e9c2e205b7bd34d0a",
            "bb7eea57125648998fad1a014a922877",
            "4df093f802cb446096c0c7e1e9458dd6",
            "193439e7a9e041919e41753b98b5fc04",
            "c6c888d3e0ad4226b8cbfd1efd113d82"
          ]
        },
        "id": "JYXEhF_CYixF",
        "outputId": "49fbee98-7068-45d9-c7f7-4a3c588a7065"
      },
      "execution_count": null,
      "outputs": [
        {
          "output_type": "stream",
          "name": "stderr",
          "text": [
            "INFO:pytorch_lightning.utilities.rank_zero:GPU available: True (cuda), used: True\n",
            "INFO:pytorch_lightning.utilities.rank_zero:TPU available: False, using: 0 TPU cores\n",
            "INFO:pytorch_lightning.utilities.rank_zero:IPU available: False, using: 0 IPUs\n",
            "INFO:pytorch_lightning.utilities.rank_zero:HPU available: False, using: 0 HPUs\n",
            "INFO:pytorch_lightning.accelerators.cuda:LOCAL_RANK: 0 - CUDA_VISIBLE_DEVICES: [0]\n",
            "INFO:pytorch_lightning.callbacks.model_summary:\n",
            "  | Name | Type             | Params\n",
            "------------------------------------------\n",
            "0 | l1   | Linear           | 50.2 K\n",
            "1 | l2   | Linear           | 4.2 K \n",
            "2 | l3   | Linear           | 650   \n",
            "3 | do   | Dropout          | 0     \n",
            "4 | loss | CrossEntropyLoss | 0     \n",
            "------------------------------------------\n",
            "55.1 K    Trainable params\n",
            "0         Non-trainable params\n",
            "55.1 K    Total params\n",
            "0.220     Total estimated model params size (MB)\n"
          ]
        },
        {
          "output_type": "display_data",
          "data": {
            "text/plain": [
              "Training: 0it [00:00, ?it/s]"
            ],
            "application/vnd.jupyter.widget-view+json": {
              "version_major": 2,
              "version_minor": 0,
              "model_id": "9be1f8be4c404c8a80c0b752efb9720c"
            }
          },
          "metadata": {}
        },
        {
          "output_type": "stream",
          "name": "stderr",
          "text": [
            "INFO:pytorch_lightning.utilities.rank_zero:`Trainer.fit` stopped: `max_epochs=5` reached.\n"
          ]
        }
      ]
    },
    {
      "cell_type": "code",
      "source": [
        "!ls lightning_logs/"
      ],
      "metadata": {
        "colab": {
          "base_uri": "https://localhost:8080/"
        },
        "id": "b0wEeeHZmcTa",
        "outputId": "7de730ee-3bf2-465e-c294-c5b1c8343742"
      },
      "execution_count": null,
      "outputs": [
        {
          "output_type": "stream",
          "name": "stdout",
          "text": [
            "version_0  version_2  version_4  version_6  version_8\n",
            "version_1  version_3  version_5  version_7\n"
          ]
        }
      ]
    },
    {
      "cell_type": "code",
      "source": [
        "ls lightning_logs/version_5/"
      ],
      "metadata": {
        "colab": {
          "base_uri": "https://localhost:8080/"
        },
        "id": "lSfP4ZscmfxC",
        "outputId": "7d6280f9-7140-404c-b43c-f9a54ab596bd"
      },
      "execution_count": null,
      "outputs": [
        {
          "output_type": "stream",
          "name": "stdout",
          "text": [
            "\u001b[0m\u001b[01;34mcheckpoints\u001b[0m/  events.out.tfevents.1692813924.2b200cc6b0a9.610.5  hparams.yaml\n"
          ]
        }
      ]
    },
    {
      "cell_type": "code",
      "source": [
        "ls lightning_logs/version_5/checkpoints/"
      ],
      "metadata": {
        "colab": {
          "base_uri": "https://localhost:8080/"
        },
        "id": "bualPNOcmora",
        "outputId": "0e776828-9a27-494d-cabe-f3afbd21c265"
      },
      "execution_count": null,
      "outputs": [
        {
          "output_type": "stream",
          "name": "stdout",
          "text": [
            "'epoch=3-step=7500.ckpt'\n"
          ]
        }
      ]
    }
  ]
}